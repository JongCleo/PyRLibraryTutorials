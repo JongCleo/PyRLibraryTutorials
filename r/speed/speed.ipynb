{
 "cells": [
  {
   "cell_type": "markdown",
   "metadata": {
    "collapsed": false,
    "inputHidden": false,
    "outputHidden": false
   },
   "source": [
    "# Common pitfalls\n",
    "\n",
    "  * The benefit of using R is that coding time is greatly\n",
    "reduced.\n",
    "  * But it's very easy to write programs that are\n",
    "incredibly slow."
   ]
  },
  {
   "cell_type": "code",
   "execution_count": 1,
   "metadata": {
    "collapsed": true
   },
   "outputs": [
    {
     "data": {
      "text/html": [
       "<table>\n",
       "<thead><tr><th scope=col>test</th><th scope=col>replications</th><th scope=col>elapsed</th><th scope=col>relative</th><th scope=col>user.self</th><th scope=col>sys.self</th><th scope=col>user.child</th><th scope=col>sys.child</th></tr></thead>\n",
       "<tbody>\n",
       "\t<tr><td>good_hit(1000)</td><td>100           </td><td>0.006         </td><td> 1.000        </td><td>0.005         </td><td>0.000         </td><td>0             </td><td>0             </td></tr>\n",
       "\t<tr><td>bad_hit(1000) </td><td>100           </td><td>0.148         </td><td>24.667        </td><td>0.141         </td><td>0.007         </td><td>0             </td><td>0             </td></tr>\n",
       "</tbody>\n",
       "</table>\n"
      ],
      "text/latex": [
       "\\begin{tabular}{r|llllllll}\n",
       " test & replications & elapsed & relative & user.self & sys.self & user.child & sys.child\\\\\n",
       "\\hline\n",
       "\t good\\_hit(1000) & 100              & 0.006            &  1.000           & 0.005            & 0.000            & 0                & 0               \\\\\n",
       "\t bad\\_hit(1000)  & 100              & 0.148            & 24.667           & 0.141            & 0.007            & 0                & 0               \\\\\n",
       "\\end{tabular}\n"
      ],
      "text/markdown": [
       "\n",
       "test | replications | elapsed | relative | user.self | sys.self | user.child | sys.child | \n",
       "|---|---|\n",
       "| good_hit(1000) | 100            | 0.006          |  1.000         | 0.005          | 0.000          | 0              | 0              | \n",
       "| bad_hit(1000)  | 100            | 0.148          | 24.667         | 0.141          | 0.007          | 0              | 0              | \n",
       "\n",
       "\n"
      ],
      "text/plain": [
       "  test           replications elapsed relative user.self sys.self user.child\n",
       "1 good_hit(1000) 100          0.006    1.000   0.005     0.000    0         \n",
       "2 bad_hit(1000)  100          0.148   24.667   0.141     0.007    0         \n",
       "  sys.child\n",
       "1 0        \n",
       "2 0        "
      ]
     },
     "metadata": {},
     "output_type": "display_data"
    }
   ],
   "source": [
    "# BAD\n",
    "\n",
    "bad_hit <- function(n = 100) {\n",
    "    hit = NULL\n",
    "    for(i in 1:n) {\n",
    "        if(runif(1) < 0.3) \n",
    "            hit[i] = TRUE\n",
    "        else\n",
    "            hit[i] = FALSE\n",
    "    }\n",
    "}\n",
    "\n",
    "# GOOD\n",
    "\n",
    "good_hit <- function(n = 100) {\n",
    "    hit = runif(n) < 0.3\n",
    "}\n",
    "\n",
    "rbenchmark::benchmark(\n",
    "    good_hit(1000), bad_hit(1000), order = \"relative\", replications = 100)"
   ]
  },
  {
   "cell_type": "markdown",
   "metadata": {
    "collapsed": false,
    "inputHidden": false,
    "outputHidden": false
   },
   "source": [
    "# AVOID RBIND AT ALL COSTS\n",
    "### FIRST RULE OF R CLUB IS TO NEVER GROW A VECTOR\n",
    "\n",
    "* However, a reasonable upper bound on the size of the final object is often known\n",
    "* So pre-allocate!"
   ]
  },
  {
   "cell_type": "code",
   "execution_count": 4,
   "metadata": {
    "collapsed": true
   },
   "outputs": [
    {
     "name": "stdout",
     "output_type": "stream",
     "text": [
      "               test replications elapsed relative user.self sys.self user.child\n",
      "1 good_df_add(1000)            5   0.021    1.000     0.021    0.000          0\n",
      "2  bad_df_add(1000)            5   2.278  108.476     2.259    0.015          0\n",
      "  sys.child\n",
      "1         0\n",
      "2         0\n"
     ]
    }
   ],
   "source": [
    "# THIS IS BAD\n",
    "\n",
    "bad_df_add <- function(n) {\n",
    "    df1 = data.frame(a = character(0), b = numeric(0))\n",
    "    for(i in 1:n)\n",
    "        df1 = rbind(df1, \n",
    "                data.frame(a = sample(letters, 1), b = runif(1)))\n",
    "    return(df1)\n",
    "}\n",
    "\n",
    "# THIS IS GOOD\n",
    "\n",
    "good_df_add <- function(n) {\n",
    "    df2 <- tibble::tibble(a = character(n), b = numeric(n))\n",
    "    \n",
    "    for(i in 1:10) {\n",
    "        df2[i, \"a\"] <- sample(letters, 1)\n",
    "        df2[i, \"b\"] <- runif(1)\n",
    "    }\n",
    "    return(df2)\n",
    "}\n",
    "\n",
    "z <- rbenchmark::benchmark(\n",
    "    good_df_add(1000), bad_df_add(1000), \n",
    "    order = \"relative\", replications = 5)\n",
    "\n",
    "print(z)"
   ]
  },
  {
   "cell_type": "markdown",
   "metadata": {
    "collapsed": false,
    "inputHidden": false,
    "outputHidden": false
   },
   "source": [
    "## Always Vectorize"
   ]
  },
  {
   "cell_type": "code",
   "execution_count": 5,
   "metadata": {
    "collapsed": false
   },
   "outputs": [],
   "source": [
    "x = rnorm(10)\n",
    "ans = NULL\n",
    "for(i in 1:length(x)) {\n",
    "    if(x[i] < 0) \n",
    "        ans = c(ans, x[i])\n",
    "}\n",
    "\n",
    "# GOOD VECTORIZE\n",
    "\n",
    "x = x[x < 0]"
   ]
  }
 ],
 "metadata": {
  "kernel_info": {
   "name": "ir"
  },
  "kernelspec": {
   "display_name": "R",
   "language": "R",
   "name": "ir"
  },
  "language_info": {
   "codemirror_mode": "r",
   "file_extension": ".r",
   "mimetype": "text/x-r-source",
   "name": "R",
   "pygments_lexer": "r",
   "version": "3.4.0"
  }
 },
 "nbformat": 4,
 "nbformat_minor": 4
}
