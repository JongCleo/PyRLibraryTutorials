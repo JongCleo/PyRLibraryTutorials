{
  "cells": [
    {
      "cell_type": "markdown",
      "source": [
        "# Rcpp\n",
        "\n",
        "Rcpp makes it easy to call C++ functions from R\n",
        "* Users doesn't have to worry about\n",
        "* platform;\n",
        "* compilers;\n",
        "* R/C interface.\n",
        "\n## Example 1"
      ],
      "metadata": {
        "collapsed": false,
        "outputHidden": false,
        "inputHidden": false
      }
    },
    {
      "cell_type": "code",
      "source": [
        "# R implementation\n",
        "\n",
        "f <- function(n) {\n",
        "    if (n < 2) return(n)\n",
        "    return(f(n-1) + f(n-2))\n",
        "}"
      ],
      "outputs": [],
      "execution_count": 1,
      "metadata": {
        "collapsed": false,
        "outputHidden": false,
        "inputHidden": false
      }
    },
    {
      "cell_type": "code",
      "source": [
        "sapply(0:10, f)"
      ],
      "outputs": [
        {
          "output_type": "display_data",
          "data": {
            "text/html": [
              "<ol class=list-inline>\n",
              "\t<li>0</li>\n",
              "\t<li>1</li>\n",
              "\t<li>1</li>\n",
              "\t<li>2</li>\n",
              "\t<li>3</li>\n",
              "\t<li>5</li>\n",
              "\t<li>8</li>\n",
              "\t<li>13</li>\n",
              "\t<li>21</li>\n",
              "\t<li>34</li>\n",
              "\t<li>55</li>\n",
              "</ol>\n"
            ],
            "text/markdown": [
              "1. 0\n",
              "2. 1\n",
              "3. 1\n",
              "4. 2\n",
              "5. 3\n",
              "6. 5\n",
              "7. 8\n",
              "8. 13\n",
              "9. 21\n",
              "10. 34\n",
              "11. 55\n",
              "\n\n"
            ],
            "text/latex": [
              "\\begin{enumerate*}\n",
              "\\item 0\n",
              "\\item 1\n",
              "\\item 1\n",
              "\\item 2\n",
              "\\item 3\n",
              "\\item 5\n",
              "\\item 8\n",
              "\\item 13\n",
              "\\item 21\n",
              "\\item 34\n",
              "\\item 55\n",
              "\\end{enumerate*}\n"
            ],
            "text/plain": [
              " [1]  0  1  1  2  3  5  8 13 21 34 55"
            ]
          },
          "metadata": {}
        }
      ],
      "execution_count": 2,
      "metadata": {
        "collapsed": false,
        "outputHidden": false,
        "inputHidden": false
      }
    },
    {
      "cell_type": "code",
      "source": [
        "# R C++ implementation\n",
        "\n",
        "Rcpp::cppFunction(\"\n",
        "    int g(int n) {\n",
        "        if (n < 2) return(n);\n",
        "        return(g(n-1) + g(n-2));\n",
        "    }\n",
        "\")"
      ],
      "outputs": [],
      "execution_count": 3,
      "metadata": {
        "collapsed": false,
        "outputHidden": false,
        "inputHidden": false
      }
    },
    {
      "cell_type": "code",
      "source": [
        "sapply(0:10, g)"
      ],
      "outputs": [
        {
          "output_type": "display_data",
          "data": {
            "text/html": [
              "<ol class=list-inline>\n",
              "\t<li>0</li>\n",
              "\t<li>1</li>\n",
              "\t<li>1</li>\n",
              "\t<li>2</li>\n",
              "\t<li>3</li>\n",
              "\t<li>5</li>\n",
              "\t<li>8</li>\n",
              "\t<li>13</li>\n",
              "\t<li>21</li>\n",
              "\t<li>34</li>\n",
              "\t<li>55</li>\n",
              "</ol>\n"
            ],
            "text/markdown": [
              "1. 0\n",
              "2. 1\n",
              "3. 1\n",
              "4. 2\n",
              "5. 3\n",
              "6. 5\n",
              "7. 8\n",
              "8. 13\n",
              "9. 21\n",
              "10. 34\n",
              "11. 55\n",
              "\n\n"
            ],
            "text/latex": [
              "\\begin{enumerate*}\n",
              "\\item 0\n",
              "\\item 1\n",
              "\\item 1\n",
              "\\item 2\n",
              "\\item 3\n",
              "\\item 5\n",
              "\\item 8\n",
              "\\item 13\n",
              "\\item 21\n",
              "\\item 34\n",
              "\\item 55\n",
              "\\end{enumerate*}\n"
            ],
            "text/plain": [
              " [1]  0  1  1  2  3  5  8 13 21 34 55"
            ]
          },
          "metadata": {}
        }
      ],
      "execution_count": 4,
      "metadata": {
        "collapsed": false,
        "outputHidden": false,
        "inputHidden": false
      }
    },
    {
      "cell_type": "code",
      "source": [
        "rbenchmark::benchmark(f(25), g(25), order = 'relative')[,1:4]"
      ],
      "outputs": [
        {
          "output_type": "display_data",
          "data": {
            "text/html": [
              "<table>\n",
              "<thead><tr><th></th><th scope=col>test</th><th scope=col>replications</th><th scope=col>elapsed</th><th scope=col>relative</th></tr></thead>\n",
              "<tbody>\n",
              "\t<tr><th scope=row>2</th><td>g(25)  </td><td>100    </td><td>0.039  </td><td>  1.000</td></tr>\n",
              "\t<tr><th scope=row>1</th><td>f(25)  </td><td>100    </td><td>8.614  </td><td>220.872</td></tr>\n",
              "</tbody>\n",
              "</table>\n"
            ],
            "text/markdown": [
              "\n",
              "| <!--/--> | test | replications | elapsed | relative | \n",
              "|---|---|\n",
              "| 2 | g(25)   | 100     | 0.039   |   1.000 | \n",
              "| 1 | f(25)   | 100     | 8.614   | 220.872 | \n",
              "\n\n"
            ],
            "text/latex": [
              "\\begin{tabular}{r|llll}\n",
              "  & test & replications & elapsed & relative\\\\\n",
              "\\hline\n",
              "\t2 & g(25)   & 100     & 0.039   &   1.000\\\\\n",
              "\t1 & f(25)   & 100     & 8.614   & 220.872\\\\\n",
              "\\end{tabular}\n"
            ],
            "text/plain": [
              "  test  replications elapsed relative\n",
              "2 g(25) 100          0.039     1.000 \n",
              "1 f(25) 100          8.614   220.872 "
            ]
          },
          "metadata": {}
        }
      ],
      "execution_count": 6,
      "metadata": {
        "collapsed": false,
        "outputHidden": false,
        "inputHidden": false
      }
    },
    {
      "cell_type": "markdown",
      "source": [
        "## C/C++ data types\n",
        "\n",
        "Type | Description\n",
        "\n",
        "* `char` | A single character.\n",
        "* `int` | An integer.\n",
        "* `float` | A single precision floating point number.\n",
        "* `double` | A double-precision floating point number.\n",
        "* `void` | A valueless quantity.\n",
        "* (auto) ?\n"
      ],
      "metadata": {
        "collapsed": false,
        "outputHidden": false,
        "inputHidden": false
      }
    },
    {
      "cell_type": "markdown",
      "source": [
        "## The sourceCpp function\n",
        "\n",
        "* The `cppFunction` is great for small examples\n",
        "* But you should put C++ code in a separate file (`.cpp`)\n",
        "* `sourceCpp(\"path/to/file.cpp\")`\n",
        "* The `.cpp` needs a few headers"
      ],
      "metadata": {}
    },
    {
      "cell_type": "markdown",
      "source": [
        "## Namespace\n",
        "\n",
        "* To access the Rcpp functions we would have to type `Rcpp::function_1`\n",
        "* To avoid typing `Rcpp::`\n",
        "```{r engine=\"Rcpp\", eval=FALSE}\n",
        "using namespace Rcpp;\n",
        "```\n",
        "* Above each function we want to export/use in R\n",
        "```{r engine=\"Rcpp\", eval=FALSE}\n",
        "// [[Rcpp::export]]\n",
        "```\n",
        "\n",
        "## Complete file\n",
        "\n",
        "```{r engine=\"Rcpp\"}\n",
        "# include <Rcpp.h>\n",
        "using namespace Rcpp;\n",
        "\n",
        "// [[Rcpp::export]]\n",
        "double add_c(double x, double y) {\n",
        "  double value = x + y;\n",
        "  return value;\n",
        "}"
      ],
      "metadata": {}
    },
    {
      "cell_type": "markdown",
      "source": [
        "## Example 2"
      ],
      "metadata": {}
    },
    {
      "cell_type": "code",
      "source": [
        "mean_r = function(x) {\n",
        "  n = length(x)\n",
        "  m = 0\n",
        "  for(i in seq_along(x))\n",
        "    m = m + x[i]/n\n",
        "  m\n",
        "}"
      ],
      "outputs": [],
      "execution_count": 7,
      "metadata": {}
    },
    {
      "cell_type": "code",
      "source": [
        "Rcpp::cppFunction('\n",
        "    double mean_c(NumericVector x){\n",
        "        int i;\n",
        "        int n = x.size();\n",
        "        double mean = 0;\n",
        "\n",
        "        for(i=0; i<n; i++) {\n",
        "            mean = mean + x[i]/n;\n",
        "        }\n",
        "        return mean;\n",
        "    }'\n",
        ")"
      ],
      "outputs": [],
      "execution_count": 8,
      "metadata": {
        "collapsed": false,
        "outputHidden": false,
        "inputHidden": false
      }
    },
    {
      "cell_type": "code",
      "source": [
        "x = rnorm(1e4)\n",
        "\n",
        "z = microbenchmark::microbenchmark(\n",
        "    mean(x),\n",
        "    mean_r(x),\n",
        "    mean_c(x)\n",
        ")\n",
        "print(z)"
      ],
      "outputs": [
        {
          "output_type": "stream",
          "name": "stdout",
          "text": [
            "Unit: microseconds\n",
            "      expr     min       lq      mean   median       uq      max neval\n",
            "   mean(x)  18.411  18.8195  21.77282  19.0585  20.1885  119.299   100\n",
            " mean_r(x) 433.510 435.1070 502.23063 455.1160 498.8890 2911.686   100\n",
            " mean_c(x)  38.811  39.2050  47.71543  39.5300  43.9205  547.767   100\n"
          ]
        }
      ],
      "execution_count": 10,
      "metadata": {
        "collapsed": false,
        "outputHidden": false,
        "inputHidden": false
      }
    },
    {
      "cell_type": "code",
      "source": [],
      "outputs": [],
      "execution_count": null,
      "metadata": {
        "collapsed": false,
        "outputHidden": false,
        "inputHidden": false
      }
    }
  ],
  "metadata": {
    "kernelspec": {
      "name": "ir",
      "language": "R",
      "display_name": "R"
    },
    "kernel_info": {
      "name": "ir"
    },
    "language_info": {
      "name": "R",
      "codemirror_mode": "r",
      "pygments_lexer": "r",
      "mimetype": "text/x-r-source",
      "file_extension": ".r",
      "version": "3.4.1"
    }
  },
  "nbformat": 4,
  "nbformat_minor": 2
}